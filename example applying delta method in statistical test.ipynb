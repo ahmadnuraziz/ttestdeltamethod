{
 "cells": [
  {
   "cell_type": "code",
   "execution_count": 26,
   "id": "a56a31bd",
   "metadata": {},
   "outputs": [],
   "source": [
    "import pandas as pd\n",
    "import numpy as np\n",
    "from random import randint\n",
    "from scipy import stats "
   ]
  },
  {
   "cell_type": "code",
   "execution_count": 72,
   "id": "c92e9201",
   "metadata": {},
   "outputs": [],
   "source": [
    "click_control = [randint(0,20) for i in range(10000)]\n",
    "view_control = [randint(1,60) for i in range(10000)]\n",
    "\n",
    "click_treatment = [randint(0,21) for i in range(10000)]\n",
    "view_treatment = [randint(1,60) for i in range(10000)]\n",
    "\n",
    "control = pd.DataFrame({'click':click_control,'view':view_control})\n",
    "treatment = pd.DataFrame({'click':click_treatment,'view':view_treatment})"
   ]
  },
  {
   "cell_type": "code",
   "execution_count": 73,
   "id": "acf436de",
   "metadata": {},
   "outputs": [],
   "source": [
    "def var_ratio(x,y): #x/y\n",
    "    mean_x = np.mean(x)\n",
    "    mean_y = np.mean(y)\n",
    "    var_x = np.var(x,ddof=1)\n",
    "    var_y = np.var(y,ddof=1)\n",
    "    cov_xy = np.cov(x,y,ddof=1)[0][1]\n",
    "    result = (var_x/mean_x**2 + var_y/mean_y**2 - 2*cov_xy/(mean_x*mean_y))*(mean_x*mean_x)/(mean_y*mean_y*len(x))\n",
    "    return result"
   ]
  },
  {
   "cell_type": "code",
   "execution_count": 74,
   "id": "cbdcc4ab",
   "metadata": {},
   "outputs": [],
   "source": [
    "def ttest(mean_control,mean_treatment,var_control,var_treatment):\n",
    "    diff = mean_treatment - mean_control\n",
    "    var = var_control+var_treatment\n",
    "    stde = 1.96*np.sqrt(var)\n",
    "    lower = diff - stde \n",
    "    upper = diff + stde\n",
    "    z = diff/np.sqrt(var)\n",
    "    p_val = stats.norm.sf(abs(z))*2\n",
    "\n",
    "    result = {'mean_control':mean_control,\n",
    "             'mean_experiment':mean_experiment,\n",
    "             'var_control':var_control,\n",
    "             'var_experiment':var_treatment,\n",
    "             'difference':diff,\n",
    "             'lower_bound':lower,\n",
    "             'upper_bound':upper,\n",
    "             'p-value':p_val}\n",
    "    return pd.DataFrame(result,index=[0])"
   ]
  },
  {
   "cell_type": "code",
   "execution_count": 75,
   "id": "3b94cb25",
   "metadata": {},
   "outputs": [
    {
     "data": {
      "text/html": [
       "<div>\n",
       "<style scoped>\n",
       "    .dataframe tbody tr th:only-of-type {\n",
       "        vertical-align: middle;\n",
       "    }\n",
       "\n",
       "    .dataframe tbody tr th {\n",
       "        vertical-align: top;\n",
       "    }\n",
       "\n",
       "    .dataframe thead th {\n",
       "        text-align: right;\n",
       "    }\n",
       "</style>\n",
       "<table border=\"1\" class=\"dataframe\">\n",
       "  <thead>\n",
       "    <tr style=\"text-align: right;\">\n",
       "      <th></th>\n",
       "      <th>mean_control</th>\n",
       "      <th>mean_experiment</th>\n",
       "      <th>var_control</th>\n",
       "      <th>var_experiment</th>\n",
       "      <th>difference</th>\n",
       "      <th>lower_bound</th>\n",
       "      <th>upper_bound</th>\n",
       "      <th>p-value</th>\n",
       "    </tr>\n",
       "  </thead>\n",
       "  <tbody>\n",
       "    <tr>\n",
       "      <th>0</th>\n",
       "      <td>0.332556</td>\n",
       "      <td>0.350508</td>\n",
       "      <td>0.000008</td>\n",
       "      <td>0.000008</td>\n",
       "      <td>0.012572</td>\n",
       "      <td>0.004788</td>\n",
       "      <td>0.020355</td>\n",
       "      <td>0.001546</td>\n",
       "    </tr>\n",
       "  </tbody>\n",
       "</table>\n",
       "</div>"
      ],
      "text/plain": [
       "   mean_control  mean_experiment  var_control  var_experiment  difference  \\\n",
       "0      0.332556         0.350508     0.000008        0.000008    0.012572   \n",
       "\n",
       "   lower_bound  upper_bound   p-value  \n",
       "0     0.004788     0.020355  0.001546  "
      ]
     },
     "execution_count": 75,
     "metadata": {},
     "output_type": "execute_result"
    }
   ],
   "source": [
    "var_control = var_ratio(control['click'],control['view'])\n",
    "var_treatment = var_ratio(treatment['click'],treatment['view'])\n",
    "mean_control = control['click'].sum()/control['view'].sum()\n",
    "mean_treatment = treatment['click'].sum()/treatment['view'].sum()\n",
    "\n",
    "ttest(mean_control,mean_treatment,var_control,var_treatment)"
   ]
  },
  {
   "cell_type": "code",
   "execution_count": null,
   "id": "1e315f4d",
   "metadata": {},
   "outputs": [],
   "source": []
  }
 ],
 "metadata": {
  "kernelspec": {
   "display_name": "Python 3",
   "language": "python",
   "name": "python3"
  },
  "language_info": {
   "codemirror_mode": {
    "name": "ipython",
    "version": 3
   },
   "file_extension": ".py",
   "mimetype": "text/x-python",
   "name": "python",
   "nbconvert_exporter": "python",
   "pygments_lexer": "ipython3",
   "version": "3.8.8"
  }
 },
 "nbformat": 4,
 "nbformat_minor": 5
}
